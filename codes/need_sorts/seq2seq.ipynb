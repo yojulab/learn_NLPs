{
  "nbformat": 4,
  "nbformat_minor": 0,
  "metadata": {
    "colab": {
      "name": "seq2seq.ipynb",
      "provenance": [],
      "authorship_tag": "ABX9TyNI2Dh4KRA673QJ7VpUJ5sf"
    },
    "kernelspec": {
      "name": "python3",
      "display_name": "Python 3"
    },
    "language_info": {
      "name": "python"
    }
  },
  "cells": [
    {
      "cell_type": "code",
      "metadata": {
        "id": "0zj03-mkXKRs"
      },
      "source": [
        "import numpy as np"
      ],
      "execution_count": 1,
      "outputs": []
    },
    {
      "cell_type": "code",
      "metadata": {
        "colab": {
          "base_uri": "https://localhost:8080/"
        },
        "id": "qm4qsocAXaS0",
        "outputId": "c039ea40-e450-411c-d516-e08c17f65f97"
      },
      "source": [
        "index_inputs = np.load(open('./train_inputs.npy','rb'))\n",
        "index_outputs = np.load(open('./train_outputs.npy','rb'))\n",
        "index_targets = np.load(open('./train_targets.npy','rb'))\n",
        "type(index_inputs), type(index_outputs), type(index_targets)"
      ],
      "execution_count": 24,
      "outputs": [
        {
          "output_type": "execute_result",
          "data": {
            "text/plain": [
              "(numpy.ndarray, numpy.ndarray, numpy.ndarray)"
            ]
          },
          "metadata": {},
          "execution_count": 24
        }
      ]
    },
    {
      "cell_type": "code",
      "metadata": {
        "colab": {
          "base_uri": "https://localhost:8080/"
        },
        "id": "-koxrnVcXqXL",
        "outputId": "e86362e4-7e7e-49dc-c969-ec6850c8379f"
      },
      "source": [
        "index_inputs[3:5]"
      ],
      "execution_count": 5,
      "outputs": [
        {
          "output_type": "execute_result",
          "data": {
            "text/plain": [
              "array([[ 20,  30, 107,   0,   0,   0,   0,   0,   0,   0,   0,   0,   0,\n",
              "          0,   0,   0,   0,   0,   0,   0,   0,   0,   0,   0,   0],\n",
              "       [ 93,   7,  79,   0,   0,   0,   0,   0,   0,   0,   0,   0,   0,\n",
              "          0,   0,   0,   0,   0,   0,   0,   0,   0,   0,   0,   0]])"
            ]
          },
          "metadata": {},
          "execution_count": 5
        }
      ]
    },
    {
      "cell_type": "code",
      "metadata": {
        "id": "khb3gPT6pouR"
      },
      "source": [
        "!python -m pip install konlpy"
      ],
      "execution_count": null,
      "outputs": []
    },
    {
      "cell_type": "code",
      "metadata": {
        "id": "SM0E7ggFXs10"
      },
      "source": [
        "import preprocess as pp"
      ],
      "execution_count": 8,
      "outputs": []
    },
    {
      "cell_type": "code",
      "metadata": {
        "colab": {
          "base_uri": "https://localhost:8080/"
        },
        "id": "4i54qCiGpmnh",
        "outputId": "50de156f-4bd9-48db-a4fd-71e43a6fb238"
      },
      "source": [
        "prepro_configs = pp.json.load(open('./data_configs.json', 'r'))\n",
        "type(prepro_configs)"
      ],
      "execution_count": 9,
      "outputs": [
        {
          "output_type": "execute_result",
          "data": {
            "text/plain": [
              "dict"
            ]
          },
          "metadata": {},
          "execution_count": 9
        }
      ]
    },
    {
      "cell_type": "code",
      "metadata": {
        "colab": {
          "base_uri": "https://localhost:8080/"
        },
        "id": "Won3QiB8qG8x",
        "outputId": "1434df85-80c9-47b6-bb76-384e1079436e"
      },
      "source": [
        "prepro_configs.keys()"
      ],
      "execution_count": 11,
      "outputs": [
        {
          "output_type": "execute_result",
          "data": {
            "text/plain": [
              "dict_keys(['char2idx', 'idx2char', 'vocab_size', 'pad_symbol', 'std_symbol', 'end_symbol', 'unk_symbol'])"
            ]
          },
          "metadata": {},
          "execution_count": 11
        }
      ]
    },
    {
      "cell_type": "markdown",
      "metadata": {
        "id": "UUTxFuD8qgtB"
      },
      "source": [
        "## make model"
      ]
    },
    {
      "cell_type": "code",
      "metadata": {
        "id": "w03ozqd6qLLx"
      },
      "source": [
        "import tensorflow as tf"
      ],
      "execution_count": 12,
      "outputs": []
    },
    {
      "cell_type": "markdown",
      "metadata": {
        "id": "DPFNiuhitpI-"
      },
      "source": [
        "##encode model"
      ]
    },
    {
      "cell_type": "code",
      "metadata": {
        "id": "DfHDApW_uKkx"
      },
      "source": [
        "vocab_size = prepro_configs['vocab_size']\n",
        "latent_dim = 60"
      ],
      "execution_count": 14,
      "outputs": []
    },
    {
      "cell_type": "code",
      "metadata": {
        "id": "jGpmr6CRqwKZ"
      },
      "source": [
        "encode_input = tf.keras.Input(shape=(None,))\n",
        "encode_hidden = tf.keras.layers.Embedding(input_dim=vocab_size, output_dim=latent_dim)(encode_input)\n",
        "encode_output, state_h, state_c = tf.keras.layers.LSTM(50, return_state=True)(encode_hidden)\n",
        "encode_states = [state_h, state_c]"
      ],
      "execution_count": 15,
      "outputs": []
    },
    {
      "cell_type": "markdown",
      "metadata": {
        "id": "3YwK139av2Wx"
      },
      "source": [
        "#decode model"
      ]
    },
    {
      "cell_type": "code",
      "metadata": {
        "id": "9S6_EKpSvxIY"
      },
      "source": [
        "decode_input = tf.keras.Input(shape=(None,))\n",
        "decode_hidden = tf.keras.layers.Embedding(input_dim=vocab_size, output_dim=latent_dim)(decode_input)\n",
        "decode_lstm, _, _ = tf.keras.layers.LSTM(50, return_state=True, return_sequences=True)(decode_hidden, initial_state=encode_states)\n",
        "decode_output = tf.keras.layers.Dense(vocab_size, activation='softmax')(decode_lstm)"
      ],
      "execution_count": 16,
      "outputs": []
    },
    {
      "cell_type": "code",
      "metadata": {
        "id": "jKohPCPyzMh4"
      },
      "source": [
        "model = tf.keras.models.Model(inputs=[encode_input, decode_input], outputs=decode_output)"
      ],
      "execution_count": 18,
      "outputs": []
    },
    {
      "cell_type": "code",
      "metadata": {
        "colab": {
          "base_uri": "https://localhost:8080/",
          "height": 466
        },
        "id": "Gl8_eSxD0QwI",
        "outputId": "cebe1de2-8b51-429f-9ec1-c853183950a1"
      },
      "source": [
        "tf.keras.utils.plot_model(model)"
      ],
      "execution_count": 19,
      "outputs": [
        {
          "output_type": "execute_result",
          "data": {
            "image/png": "[encoded data removed]",
            "text/plain": [
              "<IPython.core.display.Image object>"
            ]
          },
          "metadata": {},
          "execution_count": 19
        }
      ]
    },
    {
      "cell_type": "code",
      "metadata": {
        "id": "G7x3jUPD1oiY"
      },
      "source": [
        "model.compile(optimizer='adam', loss='sparse_categorical_crossentropy', metrics=['acc'])"
      ],
      "execution_count": 23,
      "outputs": []
    },
    {
      "cell_type": "markdown",
      "metadata": {
        "id": "8vzFCZFv32T5"
      },
      "source": [
        "## fit"
      ]
    },
    {
      "cell_type": "code",
      "metadata": {
        "colab": {
          "base_uri": "https://localhost:8080/"
        },
        "id": "frLC8dMb1rHh",
        "outputId": "ed23ed6a-b3f6-423f-a471-eafe6d623108"
      },
      "source": [
        "# index_inputs, index_outputs, index_targets\n",
        "model.fit(x=[index_inputs, index_outputs], y=index_targets, batch_size=128, epochs=50)"
      ],
      "execution_count": 25,
      "outputs": [
        {
          "output_type": "stream",
          "text": [
            "Epoch 1/50\n",
            "1/1 [==============================] - 3s 3s/step - loss: 0.7915 - acc: 0.8180\n",
            "Epoch 2/50\n",
            "1/1 [==============================] - 0s 25ms/step - loss: 0.7829 - acc: 0.8180\n",
            "Epoch 3/50\n",
            "1/1 [==============================] - 0s 24ms/step - loss: 0.7739 - acc: 0.8180\n",
            "Epoch 4/50\n",
            "1/1 [==============================] - 0s 20ms/step - loss: 0.7662 - acc: 0.8180\n",
            "Epoch 5/50\n",
            "1/1 [==============================] - 0s 22ms/step - loss: 0.7585 - acc: 0.8180\n",
            "Epoch 6/50\n",
            "1/1 [==============================] - 0s 22ms/step - loss: 0.7511 - acc: 0.8180\n",
            "Epoch 7/50\n",
            "1/1 [==============================] - 0s 22ms/step - loss: 0.7442 - acc: 0.8180\n",
            "Epoch 8/50\n",
            "1/1 [==============================] - 0s 26ms/step - loss: 0.7374 - acc: 0.8180\n",
            "Epoch 9/50\n",
            "1/1 [==============================] - 0s 28ms/step - loss: 0.7308 - acc: 0.8180\n",
            "Epoch 10/50\n",
            "1/1 [==============================] - 0s 25ms/step - loss: 0.7246 - acc: 0.8180\n",
            "Epoch 11/50\n",
            "1/1 [==============================] - 0s 28ms/step - loss: 0.7183 - acc: 0.8180\n",
            "Epoch 12/50\n",
            "1/1 [==============================] - 0s 25ms/step - loss: 0.7122 - acc: 0.8180\n",
            "Epoch 13/50\n",
            "1/1 [==============================] - 0s 23ms/step - loss: 0.7065 - acc: 0.8180\n",
            "Epoch 14/50\n",
            "1/1 [==============================] - 0s 23ms/step - loss: 0.7008 - acc: 0.8180\n",
            "Epoch 15/50\n",
            "1/1 [==============================] - 0s 27ms/step - loss: 0.6956 - acc: 0.8180\n",
            "Epoch 16/50\n",
            "1/1 [==============================] - 0s 22ms/step - loss: 0.6908 - acc: 0.8200\n",
            "Epoch 17/50\n",
            "1/1 [==============================] - 0s 26ms/step - loss: 0.6864 - acc: 0.8200\n",
            "Epoch 18/50\n",
            "1/1 [==============================] - 0s 25ms/step - loss: 0.6820 - acc: 0.8220\n",
            "Epoch 19/50\n",
            "1/1 [==============================] - 0s 27ms/step - loss: 0.6776 - acc: 0.8260\n",
            "Epoch 20/50\n",
            "1/1 [==============================] - 0s 23ms/step - loss: 0.6732 - acc: 0.8240\n",
            "Epoch 21/50\n",
            "1/1 [==============================] - 0s 33ms/step - loss: 0.6688 - acc: 0.8220\n",
            "Epoch 22/50\n",
            "1/1 [==============================] - 0s 27ms/step - loss: 0.6647 - acc: 0.8220\n",
            "Epoch 23/50\n",
            "1/1 [==============================] - 0s 24ms/step - loss: 0.6607 - acc: 0.8220\n",
            "Epoch 24/50\n",
            "1/1 [==============================] - 0s 27ms/step - loss: 0.6570 - acc: 0.8260\n",
            "Epoch 25/50\n",
            "1/1 [==============================] - 0s 30ms/step - loss: 0.6533 - acc: 0.8280\n",
            "Epoch 26/50\n",
            "1/1 [==============================] - 0s 28ms/step - loss: 0.6497 - acc: 0.8300\n",
            "Epoch 27/50\n",
            "1/1 [==============================] - 0s 31ms/step - loss: 0.6462 - acc: 0.8380\n",
            "Epoch 28/50\n",
            "1/1 [==============================] - 0s 38ms/step - loss: 0.6427 - acc: 0.8460\n",
            "Epoch 29/50\n",
            "1/1 [==============================] - 0s 28ms/step - loss: 0.6393 - acc: 0.8500\n",
            "Epoch 30/50\n",
            "1/1 [==============================] - 0s 31ms/step - loss: 0.6361 - acc: 0.8500\n",
            "Epoch 31/50\n",
            "1/1 [==============================] - 0s 27ms/step - loss: 0.6330 - acc: 0.8500\n",
            "Epoch 32/50\n",
            "1/1 [==============================] - 0s 26ms/step - loss: 0.6299 - acc: 0.8520\n",
            "Epoch 33/50\n",
            "1/1 [==============================] - 0s 23ms/step - loss: 0.6268 - acc: 0.8540\n",
            "Epoch 34/50\n",
            "1/1 [==============================] - 0s 24ms/step - loss: 0.6237 - acc: 0.8540\n",
            "Epoch 35/50\n",
            "1/1 [==============================] - 0s 31ms/step - loss: 0.6208 - acc: 0.8540\n",
            "Epoch 36/50\n",
            "1/1 [==============================] - 0s 25ms/step - loss: 0.6178 - acc: 0.8580\n",
            "Epoch 37/50\n",
            "1/1 [==============================] - 0s 26ms/step - loss: 0.6150 - acc: 0.8580\n",
            "Epoch 38/50\n",
            "1/1 [==============================] - 0s 29ms/step - loss: 0.6122 - acc: 0.8580\n",
            "Epoch 39/50\n",
            "1/1 [==============================] - 0s 29ms/step - loss: 0.6094 - acc: 0.8620\n",
            "Epoch 40/50\n",
            "1/1 [==============================] - 0s 28ms/step - loss: 0.6067 - acc: 0.8620\n",
            "Epoch 41/50\n",
            "1/1 [==============================] - 0s 29ms/step - loss: 0.6040 - acc: 0.8620\n",
            "Epoch 42/50\n",
            "1/1 [==============================] - 0s 27ms/step - loss: 0.6013 - acc: 0.8620\n",
            "Epoch 43/50\n",
            "1/1 [==============================] - 0s 28ms/step - loss: 0.5987 - acc: 0.8660\n",
            "Epoch 44/50\n",
            "1/1 [==============================] - 0s 26ms/step - loss: 0.5960 - acc: 0.8660\n",
            "Epoch 45/50\n",
            "1/1 [==============================] - 0s 29ms/step - loss: 0.5934 - acc: 0.8660\n",
            "Epoch 46/50\n",
            "1/1 [==============================] - 0s 25ms/step - loss: 0.5908 - acc: 0.8660\n",
            "Epoch 47/50\n",
            "1/1 [==============================] - 0s 26ms/step - loss: 0.5882 - acc: 0.8660\n",
            "Epoch 48/50\n",
            "1/1 [==============================] - 0s 28ms/step - loss: 0.5857 - acc: 0.8660\n",
            "Epoch 49/50\n",
            "1/1 [==============================] - 0s 26ms/step - loss: 0.5831 - acc: 0.8660\n",
            "Epoch 50/50\n",
            "1/1 [==============================] - 0s 26ms/step - loss: 0.5805 - acc: 0.8660\n"
          ],
          "name": "stdout"
        },
        {
          "output_type": "execute_result",
          "data": {
            "text/plain": [
              "<keras.callbacks.History at 0x7f74cd4f46d0>"
            ]
          },
          "metadata": {},
          "execution_count": 25
        }
      ]
    },
    {
      "cell_type": "markdown",
      "metadata": {
        "id": "NgR8Gph15dzD"
      },
      "source": [
        "### refer : https://github.com/NLP-kr/tensorflow-ml-nlp-tf2/blob/master/6.CHATBOT/6.4.seq2seq.ipynb"
      ]
    },
    {
      "cell_type": "code",
      "metadata": {
        "id": "P7re8Geu5ARW"
      },
      "source": [
        ""
      ],
      "execution_count": null,
      "outputs": []
    }
  ]
}